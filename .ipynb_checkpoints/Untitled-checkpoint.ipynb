{
 "cells": [
  {
   "cell_type": "code",
   "execution_count": 1,
   "metadata": {},
   "outputs": [],
   "source": [
    "# imports\n",
    "\n",
    "from __future__ import print_function\n",
    "from __future__ import division\n",
    "from builtins import map\n",
    "import universe\n",
    "reload(universe)\n",
    "from universe import *\n",
    "\n",
    "import halo_fit\n",
    "reload(halo_fit)\n",
    "from halo_fit import *\n",
    "\n",
    "import weight\n",
    "reload(weight)\n",
    "from weight import *\n",
    "\n",
    "\n",
    "import pn_2d\n",
    "reload(pn_2d)\n",
    "from pn_2d import *\n",
    "\n",
    "import cmb\n",
    "reload(cmb)\n",
    "from cmb import *\n",
    "\n",
    "import flat_map\n",
    "reload(flat_map)\n",
    "from flat_map import *\n",
    "\n",
    "import pandas as pd\n",
    "\n",
    "import cmb_ilc\n",
    "reload(cmb_ilc)\n",
    "from cmb_ilc import *\n",
    "\n",
    "import scipy\n",
    "\n",
    "from headers import*\n",
    "\n",
    "from SO_noise2 import*\n",
    "\n",
    "from scipy.interpolate import interp1d"
   ]
  },
  {
   "cell_type": "code",
   "execution_count": 2,
   "metadata": {},
   "outputs": [],
   "source": [
    "from matplotlib import rc\n",
    "rc('font',**{'size':'22','family':'serif','serif':['CMU serif']})\n",
    "rc('mathtext', **{'fontset':'cm'})\n",
    "rc('text', usetex=True)\n",
    "rc('text.latex', preamble=r'\\usepackage{amsmath}, \\usepackage{amssymb}')\n",
    "rc('font', size=20)\n",
    "rc('legend',**{'fontsize':'18'})"
   ]
  },
  {
   "cell_type": "code",
   "execution_count": 29,
   "metadata": {},
   "outputs": [],
   "source": [
    "lCen = np.genfromtxt('bias_output/lCen_lmaxT_2000.txt')\n",
    "\n",
    "def load_data(lmax,sim_number): return np.genfromtxt('bias_output/data_lmaxT_'+str(lmax)+'_'+str(sim_number)+'.txt')\n",
    "\n",
    "def load_biases(lmax,sim_number):\n",
    "   datalist = load_data(lmax,i)\n",
    "   Primary = 2*datalist[int(7+24*2)]\n",
    "   Secondary = 2*datalist[int(20+24*2)]\n",
    "   Trispectrum = datalist[int(1+24*2)]\n",
    "   return np.array([Primary,Secondary,Trispectrum])"
   ]
  },
  {
   "cell_type": "code",
   "execution_count": 30,
   "metadata": {},
   "outputs": [],
   "source": [
    "u = UnivPlanck15()\n",
    "halofit = Halofit(u, save=False)\n",
    "w_cmblens = WeightLensSingle(u, z_source=1100., name=\"cmblens\")\n",
    "p2d_cmblens = P2dAuto(u, halofit, w_cmblens, save=False)\n",
    "ClkCmb = p2d_cmblens.fPinterp(lCen)"
   ]
  },
  {
   "cell_type": "code",
   "execution_count": 37,
   "metadata": {},
   "outputs": [],
   "source": [
    "data_2000 = np.array([load_biases(2000,i) for i in range(81)])\n",
    "data_2500 = np.array([load_biases(2500,i) for i in range(81)])\n",
    "data_3000 = np.array([load_biases(3000,i) for i in range(81)])\n",
    "data_3500 = np.array([load_biases(3500,i) for i in range(81)])\n",
    "data_4000 = np.array([load_biases(4000,i) for i in range(81)])\n",
    "\n",
    "mean_biases_2000 = np.mean(data_2000,axis=0)/ClkCmb\n",
    "mean_biases_2500 = np.mean(data_2500,axis=0)/ClkCmb\n",
    "mean_biases_3000 = np.mean(data_3000,axis=0)/ClkCmb\n",
    "mean_biases_3500 = np.mean(data_3500,axis=0)/ClkCmb\n",
    "mean_biases_4000 = np.mean(data_4000,axis=0)/ClkCmb"
   ]
  },
  {
   "cell_type": "code",
   "execution_count": 42,
   "metadata": {},
   "outputs": [
    {
     "data": {
      "text/plain": [
       "(-0.1, 0.1)"
      ]
     },
     "execution_count": 42,
     "metadata": {},
     "output_type": "execute_result"
    },
    {
     "data": {
      "image/png": "[encoded data removed]",
      "text/plain": [
       "<matplotlib.figure.Figure at 0x7f65bed9ced0>"
      ]
     },
     "metadata": {},
     "output_type": "display_data"
    }
   ],
   "source": [
    "fig,ax = plt.subplots(4,1,figsize=(8,6))\n",
    "\n",
    "plt.semilogx(lCen,mean_biases_3500[0])\n",
    "\n",
    "plt.xlabel(r'$L$')\n",
    "plt.xlim(30,2000)\n",
    "plt.ylim(-0.1,0.1)"
   ]
  },
  {
   "cell_type": "code",
   "execution_count": null,
   "metadata": {},
   "outputs": [],
   "source": []
  }
 ],
 "metadata": {
  "kernelspec": {
   "display_name": "Python 2",
   "language": "python",
   "name": "python2"
  },
  "language_info": {
   "codemirror_mode": {
    "name": "ipython",
    "version": 2
   },
   "file_extension": ".py",
   "mimetype": "text/x-python",
   "name": "python",
   "nbconvert_exporter": "python",
   "pygments_lexer": "ipython2",
   "version": "2.7.14"
  }
 },
 "nbformat": 4,
 "nbformat_minor": 2
}
