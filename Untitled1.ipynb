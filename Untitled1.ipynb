{
 "cells": [
  {
   "cell_type": "markdown",
   "metadata": {},
   "source": [
    "$$T(x + \\alpha(x)) = T^0(x)$$\n",
    "\n",
    "$$T(x) = T^0(x) - \\alpha(x) \\cdot \\nabla T^0(x) + \\mathcal{O}(\\alpha^2)$$\n",
    "\n",
    "$$T_\\ell = T^0_\\ell - \\int_{\\ell'} K^{(2)}_{\\ell,\\ell'}\\kappa_{\\ell-\\ell'} T^0_{\\ell'} + \\int_{\\ell' \\ell''} \\kappa_{\\ell-\\ell'} T^0_{\\ell'}$$"
   ]
  },
  {
   "cell_type": "code",
   "execution_count": null,
   "metadata": {},
   "outputs": [],
   "source": []
  },
  {
   "cell_type": "code",
   "execution_count": null,
   "metadata": {},
   "outputs": [],
   "source": []
  },
  {
   "cell_type": "code",
   "execution_count": null,
   "metadata": {},
   "outputs": [],
   "source": []
  },
  {
   "cell_type": "markdown",
   "metadata": {},
   "source": []
  }
 ],
 "metadata": {
  "kernelspec": {
   "display_name": "Python 3",
   "language": "python",
   "name": "python3"
  },
  "language_info": {
   "codemirror_mode": {
    "name": "ipython",
    "version": 3
   },
   "file_extension": ".py",
   "mimetype": "text/x-python",
   "name": "python",
   "nbconvert_exporter": "python",
   "pygments_lexer": "ipython3",
   "version": "3.8.5"
  }
 },
 "nbformat": 4,
 "nbformat_minor": 4
}
