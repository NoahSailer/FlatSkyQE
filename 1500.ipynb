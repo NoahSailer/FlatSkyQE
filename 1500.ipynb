{
 "cells": [
  {
   "cell_type": "markdown",
   "metadata": {},
   "source": [
    "# Modified ILC weights for bias and noise reduction"
   ]
  },
  {
   "cell_type": "code",
   "execution_count": 1,
   "metadata": {},
   "outputs": [],
   "source": [
    "# imports\n",
    "\n",
    "from __future__ import print_function\n",
    "from __future__ import division\n",
    "from builtins import map\n",
    "import universe\n",
    "from universe import *\n",
    "\n",
    "import halo_fit\n",
    "from halo_fit import *\n",
    "\n",
    "import weight\n",
    "from weight import *\n",
    "\n",
    "\n",
    "import pn_2d\n",
    "from pn_2d import *\n",
    "\n",
    "import cmb\n",
    "from cmb import *\n",
    "\n",
    "import flat_map\n",
    "from flat_map import *\n",
    "\n",
    "import pandas as pd\n",
    "\n",
    "import cmb_ilc\n",
    "from cmb_ilc import *\n",
    "\n",
    "import scipy\n",
    "\n",
    "from headers import*\n",
    "\n",
    "from SO_noise2 import*\n",
    "\n",
    "from scipy.interpolate import interp1d"
   ]
  },
  {
   "cell_type": "code",
   "execution_count": 2,
   "metadata": {},
   "outputs": [],
   "source": [
    "##################################################################################\n",
    "# make plots prettier\n",
    "import matplotlib\n",
    "from matplotlib.pyplot import rc\n",
    "import matplotlib.font_manager\n",
    "\n",
    "rc('font',**{'size':'22','family':'serif','serif':['CMU serif']})\n",
    "rc('mathtext', **{'fontset':'cm'})\n",
    "rc('text', usetex=True)\n",
    "rc('legend',**{'fontsize':'18'})\n",
    "\n",
    "matplotlib.rcParams['axes.linewidth'] = 3\n",
    "matplotlib.rcParams['axes.labelsize'] = 30\n",
    "matplotlib.rcParams['xtick.labelsize'] = 25 \n",
    "matplotlib.rcParams['ytick.labelsize'] = 25\n",
    "matplotlib.rcParams['legend.fontsize'] = 25\n",
    "#matplotlib.rcParams['legend.title_fontsize'] = 25\n",
    "matplotlib.rcParams['xtick.major.size'] = 10\n",
    "matplotlib.rcParams['ytick.major.size'] = 10\n",
    "matplotlib.rcParams['xtick.minor.size'] = 5\n",
    "matplotlib.rcParams['ytick.minor.size'] = 5\n",
    "matplotlib.rcParams['xtick.major.width'] = 3\n",
    "matplotlib.rcParams['ytick.major.width'] = 3\n",
    "matplotlib.rcParams['xtick.minor.width'] = 1.5\n",
    "matplotlib.rcParams['ytick.minor.width'] = 1.5\n",
    "matplotlib.rcParams['axes.titlesize'] = 30\n",
    "matplotlib.rcParams['text.latex.preamble'] = r'\\usepackage{amsmath}'"
   ]
  },
  {
   "cell_type": "markdown",
   "metadata": {},
   "source": [
    "# Setup"
   ]
  },
  {
   "cell_type": "code",
   "execution_count": 3,
   "metadata": {},
   "outputs": [
    {
     "name": "stderr",
     "output_type": "stream",
     "text": [
      "/home/noah/Berkeley/LensQuEst-1/basic_functions.py:98: RuntimeWarning: divide by zero encountered in true_divide\n",
      "  try: return x/y\n",
      "/home/noah/Berkeley/LensQuEst-1/cmb.py:127: RuntimeWarning: invalid value encountered in multiply\n",
      "  data[:,1] *= self.fdl_to_cl(data[:,0]) # convert Dl to Cl\n",
      "/home/noah/Berkeley/LensQuEst-1/cmb.py:135: RuntimeWarning: invalid value encountered in multiply\n",
      "  data[:,1] *= self.fdl_to_cl(data[:,0]) # convert Dl to Cl\n",
      "/home/noah/Berkeley/LensQuEst-1/cmb.py:149: RuntimeWarning: invalid value encountered in multiply\n",
      "  data[:,1] *= self.fdl_to_cl(data[:,0]) # convert Dl to Cl\n"
     ]
    }
   ],
   "source": [
    "# Specifications\n",
    "Nu = np.array([27.e9,39.e9,93.e9,145.e9,225.e9,280.e9]) # [Hz]\n",
    "Beam = np.array([7.4,5.1,2.2,1.4,1.0,0.9])\n",
    "#Noise = np.array([71., 36., 8., 10., 22., 54.])  # [muK*arcmin]\n",
    "Noise = np.array([52.,27.,5.8,6.3,15.,37.])\n",
    "#Noise = np.array([71.,36.,8.,10.,22.,54.])\n",
    "\n",
    "# init\n",
    "\n",
    "cmbIlc = CMBILC(Nu, Beam, Noise, atm=True)"
   ]
  },
  {
   "cell_type": "code",
   "execution_count": 4,
   "metadata": {},
   "outputs": [],
   "source": [
    "lMin = 10.\n",
    "lMax = 1500.\n",
    "\n",
    "LMin = 20.\n",
    "LMax = 1.e3\n",
    "\n",
    "nBands = 6\n",
    "nBins = 21\n",
    "\n",
    "octantArea = 4.*np.pi * (180./np.pi)**2   # deg 2\n",
    "octantArea /= 8.\n",
    "ourArea = 81. * 20.**2  # deg 2\n",
    "uncertaintyFactor = np.sqrt(ourArea / octantArea)\n",
    "\n",
    "data = pd.read_csv('output/mean_biases.csv')\n",
    "data2 = pd.read_csv('output/Ckk_biases_lmaxT_3500.csv')\n",
    "lCen = np.array(data['lCen'])\n",
    "I = np.where((lCen>=LMin)*(lCen<=LMax))\n",
    "lEdges = np.logspace(np.log10(1.), np.log10(np.max(15273.50)), nBins, 10.) # Edges of the bins\n",
    "Nmodes = np.array(data2['Nmodes'])"
   ]
  },
  {
   "cell_type": "code",
   "execution_count": 5,
   "metadata": {},
   "outputs": [],
   "source": [
    "nX = 400\n",
    "nY = 400\n",
    "size = 10.  # degrees, determined by the Sehgal cutouts\n",
    "baseMap = FlatMap(nX=nX, nY=nY, sizeX=size*np.pi/180., sizeY=size*np.pi/180.)"
   ]
  },
  {
   "cell_type": "code",
   "execution_count": 6,
   "metadata": {},
   "outputs": [],
   "source": [
    "u = UnivPlanck15()\n",
    "halofit = Halofit(u, save=False)\n",
    "w_cmblens = WeightLensSingle(u, z_source=1100., name=\"cmblens\")\n",
    "w_lsstgold = WeightTracerLSSTGold(u)\n",
    "p2d_cmblens = P2dAuto(u, halofit, w_cmblens, save=False)\n",
    "ClkCmb = p2d_cmblens.fPinterp(lCen)\n",
    "\n",
    "p2d_lsstgold = P2dAuto(u, halofit, w_lsstgold, fPnoise=lambda l:1./w_lsstgold.ngal, nProc=3, save=True)\n",
    "p2d_lsstgoldcmblens = P2dCross(u, halofit, w_lsstgold, w_cmblens, nProc=3, save=True)\n",
    "Ckg = p2d_lsstgoldcmblens.fPtotinterp(lCen)\n",
    "Cgg = p2d_lsstgold.fPtotinterp(lCen)\n",
    "\n",
    "L = np.logspace(np.log10(lMin/2.), np.log10(2.*lMax), 501, 10.)\n",
    "\n",
    "weightsIlcCmb = np.array([cmbIlc.weightsIlcCmb(l) for l in L])\n",
    "\n",
    "weightsIlcCmb_jointDeproj = np.array([cmbIlc.weightsDeprojTszCIB(l) for l in L])\n",
    "\n",
    "weightsIlcCmb_tszdeproj = np.array([cmbIlc.weightsDeprojTsz(l) for l in L])\n",
    "\n",
    "weightsIlcCmb_cibdeproj = np.array([cmbIlc.weightsDeprojCIB(l) for l in L])"
   ]
  },
  {
   "cell_type": "code",
   "execution_count": 7,
   "metadata": {},
   "outputs": [],
   "source": [
    "def ctot(weights,l,lindex):\n",
    "   result = 0.\n",
    "   for i in range(nBands):\n",
    "      for j in range(nBands):\n",
    "         result += cmbIlc.cmb[i,j].ftotalTT(l)*(weightsIlcCmb[lindex][i]+weights[i])*(weightsIlcCmb[lindex][j]+weights[j])\n",
    "   return result\n",
    "            \n",
    "def ctot_deproj(l,lindex):\n",
    "   result = 0.\n",
    "   for i in range(nBands):\n",
    "      for j in range(nBands):\n",
    "         result += cmbIlc.cmb[i,j].ftotalTT(l)*weightsIlcCmb_jointDeproj[lindex][i]*weightsIlcCmb_jointDeproj[lindex][j]\n",
    "   return result    \n",
    "    \n",
    "def ctot_tszdeproj(l,lindex):\n",
    "   result = 0.\n",
    "   for i in range(nBands):\n",
    "      for j in range(nBands):\n",
    "         result += cmbIlc.cmb[i,j].ftotalTT(l)*weightsIlcCmb_tszdeproj[lindex][i]*weightsIlcCmb_tszdeproj[lindex][j]\n",
    "   return result\n",
    "\n",
    "def ctot_cibdeproj(l,lindex):\n",
    "   result = 0.\n",
    "   for i in range(nBands):\n",
    "      for j in range(nBands):\n",
    "         result += cmbIlc.cmb[i,j].ftotalTT(l)*weightsIlcCmb_cibdeproj[lindex][i]*weightsIlcCmb_cibdeproj[lindex][j]\n",
    "   return result"
   ]
  },
  {
   "cell_type": "code",
   "execution_count": 8,
   "metadata": {},
   "outputs": [],
   "source": [
    "fCtotal = np.array([ctot(np.zeros(6),l,lindex) for lindex,l in enumerate(L)])\n",
    "fCtotal_deproj = np.array([ctot_deproj(l,lindex) for lindex,l in enumerate(L)])\n",
    "fCtotal_tszdeproj = np.array([ctot_tszdeproj(l,lindex) for lindex,l in enumerate(L)])\n",
    "fCtotal_cibdeproj = np.array([ctot_cibdeproj(l,lindex) for lindex,l in enumerate(L)])"
   ]
  },
  {
   "cell_type": "code",
   "execution_count": 9,
   "metadata": {},
   "outputs": [],
   "source": [
    "def cTsz(weights,l,lindex):\n",
    "   result = 0.\n",
    "   for i in range(nBands):\n",
    "      for j in range(nBands):\n",
    "         result += cmbIlc.cmb[i,j].ftSZ(l)*(weightsIlcCmb[lindex][i]+weights[i])*(weightsIlcCmb[lindex][j]+weights[j])\n",
    "   return result\n",
    "            \n",
    "def cTsz_deproj(l,lindex):\n",
    "   result = 0.\n",
    "   for i in range(nBands):\n",
    "      for j in range(nBands):\n",
    "         result += cmbIlc.cmb[i,j].ftSZ(l)*weightsIlcCmb_jointDeproj[lindex][i]*weightsIlcCmb_jointDeproj[lindex][j]\n",
    "   return result    \n",
    "    \n",
    "def cTsz_tszdeproj(l,lindex):\n",
    "   result = 0.\n",
    "   for i in range(nBands):\n",
    "      for j in range(nBands):\n",
    "         result += cmbIlc.cmb[i,j].ftSZ(l)*weightsIlcCmb_tszdeproj[lindex][i]*weightsIlcCmb_tszdeproj[lindex][j]\n",
    "   return result\n",
    "\n",
    "def cTsz_cibdeproj(l,lindex):\n",
    "   result = 0.\n",
    "   for i in range(nBands):\n",
    "      for j in range(nBands):\n",
    "         result += cmbIlc.cmb[i,j].ftSZ(l)*weightsIlcCmb_cibdeproj[lindex][i]*weightsIlcCmb_cibdeproj[lindex][j]\n",
    "   return result"
   ]
  },
  {
   "cell_type": "code",
   "execution_count": 10,
   "metadata": {},
   "outputs": [],
   "source": [
    "fCTsz = np.array([cTsz(np.zeros(6),l,lindex) for lindex,l in enumerate(L)])\n",
    "fCTsz_deproj = np.array([cTsz_deproj(l,lindex) for lindex,l in enumerate(L)])\n",
    "fCTsz_tszdeproj = np.array([cTsz_tszdeproj(l,lindex) for lindex,l in enumerate(L)])\n",
    "fCTsz_cibdeproj = np.array([cTsz_cibdeproj(l,lindex) for lindex,l in enumerate(L)])\n",
    "fCTsz148 = np.array([cmbIlc.cmb[3,3].ftSZ(l) for l in L])"
   ]
  },
  {
   "cell_type": "code",
   "execution_count": 11,
   "metadata": {},
   "outputs": [],
   "source": [
    "def cCIB(weights,l,lindex):\n",
    "   result = 0.\n",
    "   for i in range(nBands):\n",
    "      for j in range(nBands):\n",
    "         result += cmbIlc.cmb[i,j].fCIB(l)*(weightsIlcCmb[lindex][i]+weights[i])*(weightsIlcCmb[lindex][j]+weights[j])\n",
    "   return result\n",
    "            \n",
    "def cCIB_deproj(l,lindex):\n",
    "   result = 0.\n",
    "   for i in range(nBands):\n",
    "      for j in range(nBands):\n",
    "         result += cmbIlc.cmb[i,j].fCIB(l)*weightsIlcCmb_jointDeproj[lindex][i]*weightsIlcCmb_jointDeproj[lindex][j]\n",
    "   return result    \n",
    "    \n",
    "def cCIB_tszdeproj(l,lindex):\n",
    "   result = 0.\n",
    "   for i in range(nBands):\n",
    "      for j in range(nBands):\n",
    "         result += cmbIlc.cmb[i,j].fCIB(l)*weightsIlcCmb_tszdeproj[lindex][i]*weightsIlcCmb_tszdeproj[lindex][j]\n",
    "   return result\n",
    "\n",
    "def cCIB_cibdeproj(l,lindex):\n",
    "   result = 0.\n",
    "   for i in range(nBands):\n",
    "      for j in range(nBands):\n",
    "         result += cmbIlc.cmb[i,j].fCIB(l)*weightsIlcCmb_cibdeproj[lindex][i]*weightsIlcCmb_cibdeproj[lindex][j]\n",
    "   return result"
   ]
  },
  {
   "cell_type": "code",
   "execution_count": 12,
   "metadata": {},
   "outputs": [],
   "source": [
    "fCCIB = np.array([cCIB(np.zeros(6),l,lindex) for lindex,l in enumerate(L)])\n",
    "fCCIB_deproj = np.array([cCIB_deproj(l,lindex) for lindex,l in enumerate(L)])\n",
    "fCCIB_tszdeproj = np.array([cCIB_tszdeproj(l,lindex) for lindex,l in enumerate(L)])\n",
    "fCCIB_cibdeproj = np.array([cCIB_cibdeproj(l,lindex) for lindex,l in enumerate(L)])\n",
    "fCCIB148 = np.array([cmbIlc.cmb[3,3].fCIB(l) for l in L])"
   ]
  },
  {
   "cell_type": "markdown",
   "metadata": {},
   "source": [
    "# Figure 1."
   ]
  },
  {
   "cell_type": "code",
   "execution_count": 13,
   "metadata": {},
   "outputs": [
    {
     "data": {
      "text/plain": [
       "Text(0, 0.5, '$C_\\\\ell/C^\\\\text{150 GHz}_\\\\ell$')"
      ]
     },
     "execution_count": 13,
     "metadata": {},
     "output_type": "execute_result"
    },
    {
     "name": "stderr",
     "output_type": "stream",
     "text": [
      "findfont: Font family ['serif'] not found. Falling back to DejaVu Sans.\n"
     ]
    },
    {
     "data": {
      "image/png": "[encoded data removed]",
      "text/plain": [
       "<Figure size 576x792 with 3 Axes>"
      ]
     },
     "metadata": {
      "needs_background": "light"
     },
     "output_type": "display_data"
    }
   ],
   "source": [
    "fig,ax = plt.subplots(3,1,figsize=(8,11),sharex=True,gridspec_kw={'height_ratios':[0.7,0.3,0.3],'hspace':0.14})\n",
    "\n",
    "signal = np.array([cmbIlc.cmb[0,0].flensedTT(l) for l in L])\n",
    "\n",
    "ax[0].semilogy(L,signal*L*(L+1)/(2.*np.pi),color='k',lw=3)\n",
    "\n",
    "ax[0].semilogy(L,fCtotal_deproj*L*(L+1.)/(2.*np.pi),color='C0',label='joint deprojection',lw=3)\n",
    "ax[0].semilogy(L,fCtotal_tszdeproj*L*(L+1.)/(2.*np.pi),color='C1',label='tSZ deprojection',lw=3)\n",
    "ax[0].semilogy(L,fCtotal_cibdeproj*L*(L+1.)/(2.*np.pi),color='C2',label='CIB deprojection',lw=3)\n",
    "ax[0].semilogy(L,fCtotal*L*(L+1.)/(2.*np.pi),color='C3',label='minimum variance ILC',lw=3)\n",
    "\n",
    "ax[1].plot(L,fCTsz_cibdeproj/fCTsz148,color='C2',lw=3,label='CIB deprojection')\n",
    "ax[1].plot(L,fCTsz/fCTsz148,color='C3',lw=3,label='minimum variance ILC')\n",
    "ax[1].plot(L,np.ones(L.shape),c='k',lw=3,label='148 GHz',ls='--')\n",
    "\n",
    "ax[2].semilogy(L,fCCIB_tszdeproj/fCCIB148,color='C1',label='tSZ deprojection',lw=3)\n",
    "ax[2].semilogy(L,fCCIB/fCCIB148,color='C3',label='minimum variance ILC',lw=3)\n",
    "ax[2].plot(L,np.ones(L.shape),c='k',lw=3,label='148 GHz',ls='--')\n",
    "\n",
    "\n",
    "ax[0].set_xlim(0,4000)\n",
    "ax[0].set_ylim(30,3e4)\n",
    "\n",
    "ax[2].set_xlabel(r'$\\ell$')\n",
    "ax[0].set_ylabel(r'$\\ell(\\ell+1)C^\\text{tot}_\\ell/(2\\pi)\\,\\,\\,[\\mu K^2]$')\n",
    "ax[0].legend(loc=0,frameon=False,fontsize=20)\n",
    "#ax[1].legend(loc=0,frameon=False,fontsize=20)\n",
    "#ax[2].legend(loc=0,frameon=False,fontsize=20)\n",
    "\n",
    "ax[1].set_yticks([1,2,3,4])\n",
    "ax[1].set_ylim(1,4)\n",
    "\n",
    "ax[2].set_yticks([10,1,0.1,0.01])\n",
    "ax[2].set_yticklabels([10,1,0.1,0.01])\n",
    "ax[2].set_ylim(0.01,10)\n",
    "\n",
    "ax[2].set_xticks([0,500,1000,1500,2000,2500,3000,3500,4000])\n",
    "ax[2].set_xticklabels([0,'',1000,'',2000,'',3000,'',4000])\n",
    "\n",
    "ax[1].text(2000,3,r'Relative tSZ power',fontsize=20)\n",
    "ax[2].text(2000,3e-2,r'Relative CIB power',fontsize=20)\n",
    "\n",
    "ax[1].set_ylabel(r'$C_\\ell/C^\\text{150 GHz}_\\ell$')\n",
    "ax[2].set_ylabel(r'$C_\\ell/C^\\text{150 GHz}_\\ell$')\n",
    "\n",
    "#plt.savefig('figures/ILC_noises.pdf',bbox_inches='tight')"
   ]
  },
  {
   "cell_type": "markdown",
   "metadata": {},
   "source": [
    "# Figure 2."
   ]
  },
  {
   "cell_type": "markdown",
   "metadata": {},
   "source": [
    "## Calculating noises"
   ]
  },
  {
   "cell_type": "code",
   "execution_count": 14,
   "metadata": {},
   "outputs": [
    {
     "name": "stdout",
     "output_type": "stream",
     "text": [
      "computing the reconstruction noise\n",
      "Doing full calculation: computeQuadEstPhiNormalizationFFT\n"
     ]
    },
    {
     "name": "stderr",
     "output_type": "stream",
     "text": [
      "/home/noah/Berkeley/LensQuEst-1/flat_map.py:1780: RuntimeWarning: divide by zero encountered in true_divide\n",
      "  resultFourier = 1./resultFourier\n",
      "/home/noah/Berkeley/LensQuEst-1/flat_map.py:1780: RuntimeWarning: invalid value encountered in true_divide\n",
      "  resultFourier = 1./resultFourier\n",
      "/home/noah/Berkeley/LensQuEst-1/flat_map.py:1839: RuntimeWarning: divide by zero encountered in log\n",
      "  lnfln = interp1d(np.log(L), np.log(N), kind='linear', bounds_error=False, fill_value=np.inf)\n"
     ]
    }
   ],
   "source": [
    "fCtotal = np.array([ctot(np.zeros(6),l,lindex) for lindex,l in enumerate(L)])\n",
    "interp_ctot = interp1d(L, fCtotal, kind='linear', bounds_error=False, fill_value=0.)\n",
    "fNqCmb_fft = baseMap.forecastN0Kappa(cmbIlc.cmb[0,0].flensedTT, interp_ctot, lMin=lMin, lMax=lMax, test=False)"
   ]
  },
  {
   "cell_type": "code",
   "execution_count": 15,
   "metadata": {},
   "outputs": [
    {
     "name": "stdout",
     "output_type": "stream",
     "text": [
      "computing the reconstruction noise\n",
      "Doing full calculation: computeQuadEstPhiNormalizationFFT\n"
     ]
    }
   ],
   "source": [
    "fCtotal = np.array([ctot_deproj(l,lindex) for lindex,l in enumerate(L)])\n",
    "interp_ctot = interp1d(L, fCtotal, kind='linear', bounds_error=False, fill_value=0.)\n",
    "fNqCmb_fft_deproj = baseMap.forecastN0Kappa(cmbIlc.cmb[0,0].flensedTT, interp_ctot, lMin=lMin, lMax=lMax, test=False)"
   ]
  },
  {
   "cell_type": "code",
   "execution_count": 16,
   "metadata": {},
   "outputs": [
    {
     "name": "stdout",
     "output_type": "stream",
     "text": [
      "computing the reconstruction noise\n",
      "Doing full calculation: computeQuadEstPhiNormalizationFFT\n"
     ]
    }
   ],
   "source": [
    "fCtotal = np.array([ctot_tszdeproj(l,lindex) for lindex,l in enumerate(L)])\n",
    "interp_ctot = interp1d(L, fCtotal, kind='linear', bounds_error=False, fill_value=0.)\n",
    "fNqCmb_fft_tszdeproj = baseMap.forecastN0Kappa(cmbIlc.cmb[0,0].flensedTT, interp_ctot, lMin=lMin, lMax=lMax, test=False)"
   ]
  },
  {
   "cell_type": "code",
   "execution_count": 17,
   "metadata": {},
   "outputs": [
    {
     "name": "stdout",
     "output_type": "stream",
     "text": [
      "computing the reconstruction noise\n",
      "Doing full calculation: computeQuadEstPhiNormalizationFFT\n"
     ]
    }
   ],
   "source": [
    "fCtotal = np.array([ctot_cibdeproj(l,lindex) for lindex,l in enumerate(L)])\n",
    "interp_ctot = interp1d(L, fCtotal, kind='linear', bounds_error=False, fill_value=0.)\n",
    "fNqCmb_fft_cibdeproj = baseMap.forecastN0Kappa(cmbIlc.cmb[0,0].flensedTT, interp_ctot, lMin=lMin, lMax=lMax, test=False)"
   ]
  },
  {
   "cell_type": "markdown",
   "metadata": {},
   "source": [
    "## loading biases"
   ]
  },
  {
   "cell_type": "code",
   "execution_count": 18,
   "metadata": {},
   "outputs": [],
   "source": [
    "N = 81\n",
    "\n",
    "octantArea = 4.*np.pi * (180./np.pi)**2   # deg 2\n",
    "octantArea /= 8.\n",
    "ourArea = N * 20.**2  # deg 2\n",
    "uncertaintyFactor = np.sqrt(ourArea / octantArea)\n",
    "\n",
    "def get_data(name,t,i):\n",
    "    path = name + '/' + str(int(lMax)) + '/' + \"output_t_\"+\"{0:0=2d}\".format(int(t*10)) \n",
    "    dataAvg = np.genfromtxt(path+'/data_lmaxT_'+str(int(lMax))+'_'+str(i)+'.txt')\n",
    "    i=0\n",
    "    # All extragalactic foregrounds (scale dep)\n",
    "    # \n",
    "    # Trispectrum\n",
    "    ClqCmbAllScaleDep = dataAvg[int(0+16*i)]\n",
    "    ClsCmbAllScaleDep = dataAvg[int(1+16*i)]\n",
    "    ClBHCmbAllScaleDep = dataAvg[int(2+16*i)]\n",
    "    ClBHPCmbAllScaleDep = dataAvg[int(3+16*i)]\n",
    "    # Primary\n",
    "    ClqCmbAllScaleDepKappa = dataAvg[int(4+16*i)]\n",
    "    ClsCmbAllScaleDepKappa = dataAvg[int(5+16*i)]\n",
    "    ClBHCmbAllScaleDepKappa = dataAvg[int(6+16*i)]\n",
    "    ClBHPCmbAllScaleDepKappa = dataAvg[int(7+16*i)]\n",
    "    # k_rec x LSST \n",
    "    ClqCmbAllScaleDepLsstgold = dataAvg[int(8+16*i)]\n",
    "    ClsCmbAllScaleDepLsstgold = dataAvg[int(9+16*i)]\n",
    "    ClBHCmbAllScaleDepLsstgold = dataAvg[int(10+16*i)]\n",
    "    ClBHPCmbAllScaleDepLsstgold = dataAvg[int(11+16*i)]\n",
    "    # Secondary\n",
    "    ClqCmbAllScaleDepSec = dataAvg[int(12+16*i)]\n",
    "    ClsCmbAllScaleDepSec = dataAvg[int(13+16*i)]\n",
    "    ClBHCmbAllScaleDepSec = dataAvg[int(14+16*i)]\n",
    "    ClBHPCmbAllScaleDepSec = dataAvg[int(15+16*i)]\n",
    "    \n",
    "    bias_list = np.array([ \n",
    "    ClqCmbAllScaleDepKappa*2/ClkCmb,\n",
    "    ClBHCmbAllScaleDepKappa*2/ClkCmb,\n",
    "    ClBHPCmbAllScaleDepKappa*2/ClkCmb,\n",
    "    ClsCmbAllScaleDepKappa*2/ClkCmb,\n",
    "    ClqCmbAllScaleDepSec*2/ClkCmb,\n",
    "    ClBHCmbAllScaleDepSec*2/ClkCmb,\n",
    "    ClBHPCmbAllScaleDepSec*2/ClkCmb,\n",
    "    ClsCmbAllScaleDepSec*2/ClkCmb,\n",
    "    ClqCmbAllScaleDep/ClkCmb,\n",
    "    ClBHCmbAllScaleDep/ClkCmb,\n",
    "    ClBHPCmbAllScaleDep/ClkCmb,\n",
    "    ClsCmbAllScaleDep/ClkCmb,\n",
    "    #\n",
    "    ClqCmbAllScaleDepLsstgold/Ckg,\n",
    "    ClBHCmbAllScaleDepLsstgold/Ckg,\n",
    "    ClBHPCmbAllScaleDepLsstgold/Ckg,\n",
    "    ClsCmbAllScaleDepLsstgold/Ckg])\n",
    "    \n",
    "    return bias_list\n",
    "\n",
    "def QE_bias_L(name,t):\n",
    "    bias_list = np.array([get_data(name,t,i) for i in range(N)])\n",
    "    QE_biases = np.array([b[0]+b[4]+b[8] for b in bias_list])\n",
    "    mean = np.mean(QE_biases,axis=0)\n",
    "    std = np.std(QE_biases,axis=0)*uncertaintyFactor/np.sqrt(N)\n",
    "    return mean, std\n",
    "\n",
    "def all_estimators_bias_L(name,t):\n",
    "    bias_list = np.array([get_data(name,t,i) for i in range(N)])\n",
    "    QE_biases = np.array([b[0]+b[4]+b[8] for b in bias_list])\n",
    "    PSH_biases = np.array([b[1]+b[5]+b[9] for b in bias_list])\n",
    "    PH_biases = np.array([b[2]+b[6]+b[10] for b in bias_list])\n",
    "    Shear_biases = np.array([b[3]+b[7]+b[11] for b in bias_list])\n",
    "    return QE_biases, PSH_biases, PH_biases, Shear_biases\n",
    "\n",
    "def all_estimators_cross_bias_L(name,t):\n",
    "    bias_list = np.array([get_data(name,t,i) for i in range(N)])\n",
    "    QE_biases = np.array([b[12] for b in bias_list])\n",
    "    PSH_biases = np.array([b[13] for b in bias_list])\n",
    "    PH_biases = np.array([b[14] for b in bias_list])\n",
    "    Shear_biases = np.array([b[15] for b in bias_list])\n",
    "    return QE_biases, PSH_biases, PH_biases, Shear_biases"
   ]
  },
  {
   "cell_type": "markdown",
   "metadata": {},
   "source": [
    "# Figure 3."
   ]
  },
  {
   "cell_type": "code",
   "execution_count": 19,
   "metadata": {},
   "outputs": [],
   "source": [
    "tmp_ells = np.logspace(np.log10(lMin),np.log10(2*lMax),5001)\n",
    "for i in range(6):\n",
    "   for j in range(6):\n",
    "      forCtot = np.array([cmbIlc.cmb[i,j].ftotalTT(l) for l in tmp_ells])\n",
    "      cmbIlc.cmb[i,j].ftotalTT = interp1d(tmp_ells,forCtot)"
   ]
  },
  {
   "cell_type": "code",
   "execution_count": 20,
   "metadata": {},
   "outputs": [],
   "source": [
    "tmp_ells = np.logspace(np.log10(lMin),np.log10(2*lMax),5001)\n",
    "wILCTrue = np.array([cmbIlc.weightsIlcCmb(l) for l in tmp_ells]).T\n",
    "wILCTrue_interp = np.array([interp1d(tmp_ells,wILCTrue[i],bounds_error=False,fill_value=0) for i in range(len(Nu))])\n",
    "\n",
    "wJointDeproj = np.array([cmbIlc.weightsDeprojTszCIB(l) for l in tmp_ells]).T\n",
    "wJointDeproj_interp = np.array([interp1d(tmp_ells,wJointDeproj[i],bounds_error=False,fill_value=0) for i in range(len(Nu))])\n",
    "\n",
    "wCIBDeproj = np.array([cmbIlc.weightsDeprojCIB(l) for l in tmp_ells]).T\n",
    "wCIBDeproj_interp = np.array([interp1d(tmp_ells,wCIBDeproj[i],bounds_error=False,fill_value=0) for i in range(len(Nu))])\n",
    "\n",
    "wTszDeproj = np.array([cmbIlc.weightsDeprojTsz(l) for l in tmp_ells]).T\n",
    "wTszDeproj_interp = np.array([interp1d(tmp_ells,wTszDeproj[i],bounds_error=False,fill_value=0) for i in range(len(Nu))])\n",
    "\n",
    "def wILC_interp(t,u,v,l,i): return wILCTrue_interp[i](l) + t*(wJointDeproj_interp[i](l)-wILCTrue_interp[i](l))+ u*(wCIBDeproj_interp[i](l)-wILCTrue_interp[i](l))+ v*(wTszDeproj_interp[i](l)-wILCTrue_interp[i](l))\n",
    "\n",
    "def ctot(t,u,v,l):\n",
    "  result = 0\n",
    "  for i in range(len(Nu)):\n",
    "     for j in range(len(Nu)):\n",
    "        result += cmbIlc.cmb[i,j].ftotalTT(l)*wILC_interp(t,u,v,l,i)*wILC_interp(t,u,v,l,j)\n",
    "  return result\n",
    "\n",
    "def ctot_interp(t,u,v):\n",
    "   L = np.logspace(np.log10(lMin),np.log10(2*lMax),5001)\n",
    "   forCtot = np.array([ctot(t,u,v,l) for l in L])\n",
    "   fCtotal = interp1d(L, forCtot, kind='linear', bounds_error=False, fill_value=np.inf)\n",
    "   return fCtotal\n",
    "\n",
    "def ctSZCIB(t,u,v,l):\n",
    "  result = 0\n",
    "  for i in range(len(Nu)):\n",
    "     for j in range(len(Nu)):\n",
    "        result += (cmbIlc.cmb[i,j].ftSZ(l)+cmbIlc.cmb[i,j].fCIB(l)+cmbIlc.cmb[i,j].ftSZ_CIB(l))*wILC_interp(t,u,v,l,i)*wILC_interp(t,u,v,l,j)\n",
    "  return result\n",
    "\n",
    "def ctSZCIB_interp(t,u,v):\n",
    "   L = np.logspace(np.log10(lMin),np.log10(2*lMax),5001)\n",
    "   forCtot = np.array([ctSZCIB(t,u,v,l) for l in L])\n",
    "   fCtotal = interp1d(L, forCtot, kind='linear', bounds_error=False, fill_value=np.inf)\n",
    "   return fCtotal"
   ]
  },
  {
   "cell_type": "code",
   "execution_count": 21,
   "metadata": {},
   "outputs": [],
   "source": [
    "l = np.genfromtxt('l.txt')\n",
    "profile = np.genfromtxt('profile.txt')\n",
    "uTsz = interp1d(l,profile,kind='linear')\n",
    "\n",
    "def get_noises(t,u,v):\n",
    "   fCtotal = ctot_interp(t,u,v)\n",
    "   fNqCmb_fft = baseMap.forecastN0Kappa(cmbIlc.cmb[0,0].flensedTT, fCtotal, lMin=lMin, lMax=lMax, test=False)(lCen)\n",
    "   fNsCmb_fft = baseMap.forecastN0KappaShear(cmbIlc.cmb[0,0].flensedTT, fCtotal, lMin=lMin, lMax=lMax, corr=True, test=False)(lCen)\n",
    "   fNqBHCmb_fft = baseMap.forecastN0KappaBH(cmbIlc.cmb[0,0].flensedTT, fCtotal, lMin=lMin, lMax=lMax, test=False)(lCen)\n",
    "   fNqBHPCmb_fft = baseMap.forecastN0KappaBH(cmbIlc.cmb[0,0].flensedTT, fCtotal, lMin=lMin, lMax=lMax, test=False, u=uTsz)(lCen)\n",
    "   return fNqCmb_fft,fNsCmb_fft,fNqBHCmb_fft,fNqBHPCmb_fft"
   ]
  },
  {
   "cell_type": "code",
   "execution_count": 22,
   "metadata": {},
   "outputs": [],
   "source": [
    "def Alens_biases_ILC_to_Joint(t):\n",
    "   fNqCmb_fft,fNsCmb_fft,fNqBHCmb_fft,fNqBHPCmb_fft = get_noises(t,0,0)\n",
    "   QE_biases, PSH_biases, PH_biases, Shear_biases = all_estimators_bias_L('ILC_to_Joint',t)\n",
    "   QE_biasesx, PSH_biasesx, PH_biasesx, Shear_biasesx = all_estimators_cross_bias_L('ILC_to_Joint',t)\n",
    "        \n",
    "   # QE \n",
    "   s2 =  2. * (ClkCmb + fNqCmb_fft)**2. / (Nmodes * 0.4) \n",
    "   norm = np.sum(ClkCmb[I]**2. / s2[I])\n",
    "   noise =  1./norm\n",
    "   QE_bs = np.array([ np.sum(np.abs(biasq[I]) * ClkCmb[I]**2 / s2[I]) / norm for biasq in QE_biases ])\n",
    "   QE_bs2 = np.array([ np.abs(np.sum(biasq[I] * ClkCmb[I]**2 / s2[I])) / norm for biasq in QE_biases ])\n",
    "   QE_mean = np.mean(QE_bs)\n",
    "   QE_std = np.std(QE_bs)*uncertaintyFactor/np.sqrt(N)\n",
    "   QE_mean2 = np.mean(QE_bs2)\n",
    "   QE_std2 = np.std(QE_bs2)*uncertaintyFactor/np.sqrt(N)\n",
    "   QE_noise = np.sqrt(noise)\n",
    "   #\n",
    "   # QE cross \n",
    "   s2 = ((ClkCmb + fNqCmb_fft)*Cgg + (Ckg)**2) / (Nmodes * 0.4)\n",
    "   norm = np.sum(Ckg[I]**2 / s2[I])\n",
    "   noise = 1./norm\n",
    "   QE_bs = np.array([ np.sum(np.abs(biasq[I]) * Ckg[I]**2 / s2[I]) / norm for biasq in QE_biasesx ])\n",
    "   QE_bs2 = np.array([ np.abs(np.sum(biasq[I] * Ckg[I]**2 / s2[I])) / norm for biasq in QE_biasesx ])\n",
    "   QE_meanx = np.mean(QE_bs)\n",
    "   QE_stdx = np.std(QE_bs)*uncertaintyFactor/np.sqrt(N)\n",
    "   QE_mean2x = np.mean(QE_bs2)\n",
    "   QE_std2x = np.std(QE_bs2)*uncertaintyFactor/np.sqrt(N)\n",
    "   QE_noisex = np.sqrt(noise)\n",
    "   \n",
    "    \n",
    "   # Shear \n",
    "   s2 =  2. * (ClkCmb + fNsCmb_fft)**2. / (Nmodes * 0.4) \n",
    "   norm = np.sum(ClkCmb[I]**2. / s2[I])\n",
    "   noise =  1./norm\n",
    "   Shear_bs = np.array([ np.sum(np.abs(biass[I]) * ClkCmb[I]**2 / s2[I]) / norm for biass in Shear_biases ])\n",
    "   Shear_bs2 = np.array([ np.abs(np.sum(biass[I] * ClkCmb[I]**2 / s2[I])) / norm for biass in Shear_biases ])\n",
    "   Shear_mean = np.mean(Shear_bs)\n",
    "   Shear_std = np.std(Shear_bs)*uncertaintyFactor/np.sqrt(N)\n",
    "   Shear_mean2 = np.mean(Shear_bs2)\n",
    "   Shear_std2 = np.std(Shear_bs2)*uncertaintyFactor/np.sqrt(N)\n",
    "   Shear_noise = np.sqrt(noise)\n",
    "   #\n",
    "   # Shear cross\n",
    "   s2 = ((ClkCmb + fNsCmb_fft)*Cgg + (Ckg)**2) / (Nmodes * 0.4) \n",
    "   norm = np.sum(Ckg[I]**2. / s2[I])\n",
    "   noise =  1./norm\n",
    "   Shear_bs = np.array([ np.sum(np.abs(biass[I]) * Ckg[I]**2 / s2[I]) / norm for biass in Shear_biasesx ])\n",
    "   Shear_bs2 = np.array([ np.abs(np.sum(biass[I] * Ckg[I]**2 / s2[I])) / norm for biass in Shear_biasesx ])\n",
    "   Shear_meanx = np.mean(Shear_bs)\n",
    "   Shear_stdx = np.std(Shear_bs)*uncertaintyFactor/np.sqrt(N)\n",
    "   Shear_mean2x = np.mean(Shear_bs2)\n",
    "   Shear_std2x = np.std(Shear_bs2)*uncertaintyFactor/np.sqrt(N)\n",
    "   Shear_noisex = np.sqrt(noise)\n",
    "    \n",
    "   # PSH\n",
    "   s2 =  2. * (ClkCmb + fNqBHCmb_fft)**2. / (Nmodes * 0.4) \n",
    "   norm = np.sum(ClkCmb[I]**2. / s2[I])\n",
    "   noise =  1./norm\n",
    "   PSH_bs = np.array([ np.sum(np.abs(biasbh[I]) * ClkCmb[I]**2 / s2[I]) / norm for biasbh in PSH_biases ])\n",
    "   PSH_bs2 = np.array([ np.abs(np.sum(biasbh[I] * ClkCmb[I]**2 / s2[I])) / norm for biasbh in PSH_biases ])\n",
    "   PSH_mean = np.mean(PSH_bs)\n",
    "   PSH_std = np.std(PSH_bs)*uncertaintyFactor/np.sqrt(N)\n",
    "   PSH_mean2 = np.mean(PSH_bs2)\n",
    "   PSH_std2 = np.std(PSH_bs2)*uncertaintyFactor/np.sqrt(N)\n",
    "   PSH_noise = np.sqrt(noise)\n",
    "   #\n",
    "   # PSH cross\n",
    "   s2 = ((ClkCmb + fNqBHCmb_fft)*Cgg + (Ckg)**2) / (Nmodes * 0.4)\n",
    "   norm = np.sum(Ckg[I]**2. / s2[I])\n",
    "   noise =  1./norm\n",
    "   PSH_bs = np.array([ np.sum(np.abs(biasbh[I]) * Ckg[I]**2 / s2[I]) / norm for biasbh in PSH_biasesx ])\n",
    "   PSH_bs2 = np.array([ np.abs(np.sum(biasbh[I] * Ckg[I]**2 / s2[I])) / norm for biasbh in PSH_biasesx ])\n",
    "   PSH_meanx = np.mean(PSH_bs)\n",
    "   PSH_stdx = np.std(PSH_bs)*uncertaintyFactor/np.sqrt(N)\n",
    "   PSH_mean2x = np.mean(PSH_bs2)\n",
    "   PSH_std2x = np.std(PSH_bs2)*uncertaintyFactor/np.sqrt(N)\n",
    "   PSH_noisex = np.sqrt(noise)\n",
    "\n",
    "   # PH\n",
    "   s2 =  2. * (ClkCmb + fNqBHPCmb_fft)**2. / (Nmodes * 0.4) \n",
    "   norm = np.sum(ClkCmb[I]**2. / s2[I])\n",
    "   noise =  1./norm\n",
    "   PH_bs = np.array([ np.sum(np.abs(biasbhp[I]) * ClkCmb[I]**2 / s2[I]) / norm for biasbhp in PH_biases ])\n",
    "   PH_bs2 = np.array([ np.abs(np.sum(biasbhp[I] * ClkCmb[I]**2 / s2[I])) / norm for biasbhp in PH_biases ])\n",
    "   PH_mean = np.mean(PH_bs)\n",
    "   PH_std = np.std(PH_bs)*uncertaintyFactor/np.sqrt(N)\n",
    "   PH_mean2 = np.mean(PH_bs2)\n",
    "   PH_std2 = np.std(PH_bs2)*uncertaintyFactor/np.sqrt(N)\n",
    "   PH_noise = np.sqrt(noise)\n",
    "   #\n",
    "   # PH cross\n",
    "   s2 = ((ClkCmb + fNqBHPCmb_fft)*Cgg + (Ckg)**2) / (Nmodes * 0.4)\n",
    "   norm = np.sum(Ckg[I]**2. / s2[I])\n",
    "   noise =  1./norm\n",
    "   PH_bs = np.array([ np.sum(np.abs(biasbhp[I]) * Ckg[I]**2 / s2[I]) / norm for biasbhp in PH_biasesx ])\n",
    "   PH_bs2 = np.array([ np.abs(np.sum(biasbhp[I] * Ckg[I]**2 / s2[I])) / norm for biasbhp in PH_biasesx ])\n",
    "   PH_meanx = np.mean(PH_bs)\n",
    "   PH_stdx = np.std(PH_bs)*uncertaintyFactor/np.sqrt(N)\n",
    "   PH_mean2x = np.mean(PH_bs2)\n",
    "   PH_std2x = np.std(PH_bs2)*uncertaintyFactor/np.sqrt(N)\n",
    "   PH_noisex = np.sqrt(noise)\n",
    "\n",
    "   mean = np.array([QE_mean, Shear_mean, PSH_mean, PH_mean])\n",
    "   std = np.array([QE_std, Shear_std, PSH_std, PH_std])\n",
    "   mean2 = np.array([QE_mean2, Shear_mean2, PSH_mean2, PH_mean2])\n",
    "   std2 = np.array([QE_std2, Shear_std2, PSH_std2, PH_std2])\n",
    "   noises = np.array([QE_noise,Shear_noise,PSH_noise,PH_noise])\n",
    "\n",
    "   meanx = np.array([QE_meanx, Shear_meanx, PSH_meanx, PH_meanx])\n",
    "   stdx = np.array([QE_stdx, Shear_stdx, PSH_stdx, PH_stdx])\n",
    "   mean2x = np.array([QE_mean2x, Shear_mean2x, PSH_mean2x, PH_mean2x])\n",
    "   std2x = np.array([QE_std2x, Shear_std2x, PSH_std2x, PH_std2x])\n",
    "   noisesx = np.array([QE_noisex,Shear_noisex,PSH_noisex,PH_noisex])\n",
    "\n",
    "   return mean, std, noises, mean2, std2, meanx, stdx, noisesx, mean2x, std2x"
   ]
  },
  {
   "cell_type": "code",
   "execution_count": 23,
   "metadata": {
    "scrolled": true
   },
   "outputs": [
    {
     "name": "stdout",
     "output_type": "stream",
     "text": [
      "computing the reconstruction noise\n",
      "Doing full calculation: computeQuadEstPhiNormalizationFFT\n",
      "computing the reconstruction noise\n"
     ]
    },
    {
     "name": "stderr",
     "output_type": "stream",
     "text": [
      "/home/noah/Berkeley/LensQuEst-1/basic_functions.py:108: RuntimeWarning: invalid value encountered in true_divide\n",
      "  result[loc] = x[loc] / y[loc]\n",
      "/home/noah/Berkeley/LensQuEst-1/flat_map.py:3365: RuntimeWarning: invalid value encountered in multiply\n",
      "  f = lambda l: g(l) * fCfg(l)\n",
      "/home/noah/Berkeley/LensQuEst-1/flat_map.py:3393: RuntimeWarning: invalid value encountered in multiply\n",
      "  f = lambda l: fCfg(l) * (l>=lMin) * (l<=lMax)\n",
      "/home/noah/Berkeley/LensQuEst-1/flat_map.py:3397: RuntimeWarning: invalid value encountered in multiply\n",
      "  f = lambda l: g(l)**2 * fCfg(l)\n"
     ]
    },
    {
     "name": "stdout",
     "output_type": "stream",
     "text": [
      "doing full calculation: computeQuadEstPhiShearNormalizationCorrectedFFT\n",
      "computing the response\n",
      "Doing full calculation: computeResponseFFT\n",
      "Doing full calculation: computeS2NormalizationFFT\n",
      "Doing full calculation: computeQuadEstPhiNormalizationFFT\n"
     ]
    },
    {
     "name": "stderr",
     "output_type": "stream",
     "text": [
      "/home/noah/Berkeley/LensQuEst-1/flat_map.py:4419: RuntimeWarning: divide by zero encountered in true_divide\n",
      "  resultFourier = 1./resultFourier\n",
      "/home/noah/Berkeley/LensQuEst-1/flat_map.py:4419: RuntimeWarning: invalid value encountered in true_divide\n",
      "  resultFourier = 1./resultFourier\n",
      "/home/noah/Berkeley/LensQuEst-1/flat_map.py:4637: RuntimeWarning: invalid value encountered in log\n",
      "  lnfln = interp1d(np.log(L), np.log(N), kind='linear', bounds_error=False, fill_value=np.inf)\n"
     ]
    },
    {
     "name": "stdout",
     "output_type": "stream",
     "text": [
      "computing the response\n",
      "Doing full calculation: computeResponseFFT\n",
      "Doing full calculation: computeS2NormalizationFFT\n",
      "Doing full calculation: computeQuadEstPhiNormalizationFFT\n"
     ]
    }
   ],
   "source": [
    "mean_00, std_00, noises_00, mean2_00, std2_00, meanx_00, stdx_00, noisesx_00, mean2x_00, std2x_00 = Alens_biases_ILC_to_Joint(0)"
   ]
  },
  {
   "cell_type": "code",
   "execution_count": 24,
   "metadata": {},
   "outputs": [],
   "source": [
    "dat = np.array([mean_00, std_00, noises_00, mean2_00, std2_00, meanx_00, stdx_00, noisesx_00, mean2x_00, std2x_00])\n",
    "np.savetxt('output/ILC_lmaxT_'+str(int(lMax))+'.txt',dat)"
   ]
  }
 ],
 "metadata": {
  "kernelspec": {
   "display_name": "Python 3",
   "language": "python",
   "name": "python3"
  },
  "language_info": {
   "codemirror_mode": {
    "name": "ipython",
    "version": 3
   },
   "file_extension": ".py",
   "mimetype": "text/x-python",
   "name": "python",
   "nbconvert_exporter": "python",
   "pygments_lexer": "ipython3",
   "version": "3.8.5"
  }
 },
 "nbformat": 4,
 "nbformat_minor": 2
}
